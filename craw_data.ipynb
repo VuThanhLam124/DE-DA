{
 "cells": [
  {
   "cell_type": "code",
   "execution_count": 1,
   "metadata": {},
   "outputs": [],
   "source": [
    "import requests\n",
    "import numpy as np\n",
    "from bs4 import BeautifulSoup, Tag\n",
    "import os"
   ]
  },
  {
   "cell_type": "markdown",
   "metadata": {},
   "source": [
    "Crawl data điểm thi đại học"
   ]
  },
  {
   "cell_type": "code",
   "execution_count": null,
   "metadata": {},
   "outputs": [],
   "source": [
    "# tạo file Data_crawn_THPTQG2024.txt, nếu tồn tai thì ghi đè\n",
    "if not os.path.exists(\"Data_crawn_THPTQG2024.txt\"):\n",
    "    open(\"Data_crawn_THPTQG2024.txt\", 'w').close()\n",
    "\n",
    "with open(r\"Data_crawn_THPTQG2024.txt\", 'w', encoding='utf-8') as w:\n",
    "    for idx in range(10000001, 99999999):\n",
    "        # page là trang web cần lấy dữ liệu\n",
    "        page = requests.get(\"https://diemthi.vnanet.vn/diem-thi/2024/{}.html\".format(idx))\n",
    "        # kiểm tra xem trang web có tồn tại không\n",
    "        if page.status_code != 404:\n",
    "            print(\"[GET] {}/99999999\".format(idx))\n",
    "            soup = BeautifulSoup(page.text, \"html.parser\")\n",
    "            parent = soup.find_all(\"div\", {\"class\": \"resultSearch__right\"})\n",
    "            elements = soup.find_all(\"td\")\n",
    "            n = 2\n",
    "            elements = [elements[i:i+n] for i in range(0, len(elements), n)]\n",
    "            subjects = {'Toán': '',\n",
    "                        'Văn': '',\n",
    "                        'Sử': '',\n",
    "                        'Địa': '',\n",
    "                        'Lí': '',\n",
    "                        'Hoá': '',\n",
    "                        'Sinh': '',\n",
    "                        'Ngoại ngữ': '',\n",
    "                        'GDCD': ''}\n",
    "            \n",
    "            for element in elements:\n",
    "                for key, value in subjects.items():\n",
    "                    if element[0].text == key:\n",
    "                        subjects[key] = element[1].text\n",
    "            line = ','.join([v for v in subjects.values()])\n",
    "            w.write(line + '\\n')\n",
    "        else:\n",
    "            print(\"[INFO] {}/99999999: no data\".format(idx))\n",
    "# dữ liệu được ghi có dạng: Toán,Văn,Sử,Địa,Lí,Hoá,Sinh,Ngoại ngữ,GDCD"
   ]
  },
  {
   "cell_type": "code",
   "execution_count": null,
   "metadata": {},
   "outputs": [],
   "source": []
  }
 ],
 "metadata": {
  "kernelspec": {
   "display_name": "RL",
   "language": "python",
   "name": "python3"
  },
  "language_info": {
   "codemirror_mode": {
    "name": "ipython",
    "version": 3
   },
   "file_extension": ".py",
   "mimetype": "text/x-python",
   "name": "python",
   "nbconvert_exporter": "python",
   "pygments_lexer": "ipython3",
   "version": "3.10.12"
  }
 },
 "nbformat": 4,
 "nbformat_minor": 2
}
